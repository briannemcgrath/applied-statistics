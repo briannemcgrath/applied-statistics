{
 "cells": [
  {
   "cell_type": "markdown",
   "metadata": {},
   "source": [
    "# **Applied Statistics Project - Analysis on PlantGrowth R Dataset** \n",
    "___\n",
    "\n",
    "This notebook contains my analysis of the PlantGrowth R dataset. \n",
    "\n",
    "![Plant Growth](image/plant-growth.jpg)\n",
    "\n",
    "**Author: Brianne McGrath**\n",
    "___"
   ]
  },
  {
   "cell_type": "markdown",
   "metadata": {},
   "source": [
    "## **Dataset Overview**\n",
    "\n",
    "The **PlantGrowth** dataset contains results from an experiement designed to compare the dried weight yields of plants under different treatement conditions. The dataset includes measurements for a **control group** (`ctrl`) and two **treatment groups** (`trt1`) and (`trt2`). Within the datset we have the following variables: \n",
    "- **weight:** The dried weight of the plants. \n",
    "- **group:** The treatment group of the plant. \n",
    "\n",
    "There are 30 observations in total. \n",
    "___"
   ]
  },
  {
   "cell_type": "markdown",
   "metadata": {},
   "source": [
    "## **Imports**"
   ]
  },
  {
   "cell_type": "code",
   "execution_count": 1,
   "metadata": {},
   "outputs": [],
   "source": [
    "# import necessary libraries \n",
    "import pandas as pd \n",
    "from scipy import stats \n",
    "from scipy.stats import f_oneway"
   ]
  },
  {
   "cell_type": "code",
   "execution_count": 2,
   "metadata": {},
   "outputs": [],
   "source": [
    "# loading dataset\n",
    "df = pd.read_csv('data/plant_growth.csv')"
   ]
  },
  {
   "cell_type": "code",
   "execution_count": 3,
   "metadata": {},
   "outputs": [
    {
     "data": {
      "text/html": [
       "<div>\n",
       "<style scoped>\n",
       "    .dataframe tbody tr th:only-of-type {\n",
       "        vertical-align: middle;\n",
       "    }\n",
       "\n",
       "    .dataframe tbody tr th {\n",
       "        vertical-align: top;\n",
       "    }\n",
       "\n",
       "    .dataframe thead th {\n",
       "        text-align: right;\n",
       "    }\n",
       "</style>\n",
       "<table border=\"1\" class=\"dataframe\">\n",
       "  <thead>\n",
       "    <tr style=\"text-align: right;\">\n",
       "      <th></th>\n",
       "      <th>rownames</th>\n",
       "      <th>weight</th>\n",
       "      <th>group</th>\n",
       "    </tr>\n",
       "  </thead>\n",
       "  <tbody>\n",
       "    <tr>\n",
       "      <th>0</th>\n",
       "      <td>1</td>\n",
       "      <td>4.17</td>\n",
       "      <td>ctrl</td>\n",
       "    </tr>\n",
       "    <tr>\n",
       "      <th>1</th>\n",
       "      <td>2</td>\n",
       "      <td>5.58</td>\n",
       "      <td>ctrl</td>\n",
       "    </tr>\n",
       "    <tr>\n",
       "      <th>2</th>\n",
       "      <td>3</td>\n",
       "      <td>5.18</td>\n",
       "      <td>ctrl</td>\n",
       "    </tr>\n",
       "    <tr>\n",
       "      <th>3</th>\n",
       "      <td>4</td>\n",
       "      <td>6.11</td>\n",
       "      <td>ctrl</td>\n",
       "    </tr>\n",
       "    <tr>\n",
       "      <th>4</th>\n",
       "      <td>5</td>\n",
       "      <td>4.50</td>\n",
       "      <td>ctrl</td>\n",
       "    </tr>\n",
       "  </tbody>\n",
       "</table>\n",
       "</div>"
      ],
      "text/plain": [
       "   rownames  weight group\n",
       "0         1    4.17  ctrl\n",
       "1         2    5.58  ctrl\n",
       "2         3    5.18  ctrl\n",
       "3         4    6.11  ctrl\n",
       "4         5    4.50  ctrl"
      ]
     },
     "execution_count": 3,
     "metadata": {},
     "output_type": "execute_result"
    }
   ],
   "source": [
    "df.head()"
   ]
  },
  {
   "cell_type": "markdown",
   "metadata": {},
   "source": [
    "___\n",
    "## **$t$-Test:**\n",
    "\n",
    "___\n",
    "\n",
    "#### **What is a $t$-Test?** \n",
    "A t-test is a statistical test used to determine whether there is a significant difference between the means of two groups and how they are related. It helps assess if any observed difference is due to chance or if it reflects a real effect. In this case, we will use it to compare the plant weights between the two treatment groups `trt1` and `trt2`. \n",
    "\n",
    "### **How a $t$-test Works:** \n",
    "#### **Key Assumptions of the $t$-Test:**\n",
    "- Data are continuous.\n",
    "- Sample data have been randomly sampled from a population. \n",
    "- There is homogeneity of variance (i.e., the variability of the data in each group is similar)\n",
    "- The distribution is approximately normal. \n",
    "\n",
    "For two sample $t$-tests, we must have independent samples. If the samples are not independent, then a paired $t$-test may be appropriate. "
   ]
  },
  {
   "cell_type": "code",
   "execution_count": 4,
   "metadata": {},
   "outputs": [
    {
     "data": {
      "text/plain": [
       "(-3.0100985421243616, 0.00929840471726984)"
      ]
     },
     "execution_count": 4,
     "metadata": {},
     "output_type": "execute_result"
    }
   ],
   "source": [
    "# seperate data by treatment group \n",
    "trt1_data = df[df['group'] == 'trt1']['weight']\n",
    "trt2_data = df[df['group'] == 'trt2']['weight']\n",
    "\n",
    "# perform t-test\n",
    "t_stat, p_value = stats.ttest_ind(trt1_data, trt2_data, equal_var=False)\n",
    "\n",
    "# display results\n",
    "t_stat, p_value"
   ]
  },
  {
   "cell_type": "markdown",
   "metadata": {},
   "source": [
    "### **Results & Interpretation:**\n",
    "- **t-statistic:** -3.01. The negative value indicates that the mean weight of plants in `trt1` is lower than that in `trt2`. A magnitude of 3.01 suggests a notable difference relative to the variation within the group. \n",
    "- **p-value:** 0.0093. Since the p-value is less than 0.05, we reject the null hypothesis. This provides strong evidence of a significant difference between the means of `trt1` and `trt2`. \n",
    "\n",
    "The dried plant weights of `trt1` and `trt2` are significantly different, with `trt1` resulting in lower weights. This suggests that the treatments have different effects on plant growth. \n",
    "___"
   ]
  },
  {
   "cell_type": "markdown",
   "metadata": {},
   "source": [
    "## **ANOVA**\n",
    "___"
   ]
  },
  {
   "cell_type": "code",
   "execution_count": 5,
   "metadata": {},
   "outputs": [
    {
     "data": {
      "text/plain": [
       "(4.846087862380136, 0.0159099583256229)"
      ]
     },
     "execution_count": 5,
     "metadata": {},
     "output_type": "execute_result"
    }
   ],
   "source": [
    "# seperate data by treatment group \n",
    "ctrl_data = df[df['group'] == 'ctrl']['weight']\n",
    "trt1_data = df[df['group'] == 'trt1']['weight']\n",
    "trt2_data = df[df['group'] == 'trt2']['weight']\n",
    "\n",
    "# perform one-way ANOVA\n",
    "f_stat, p_value = f_oneway(ctrl_data, trt1_data, trt2_data)\n",
    "\n",
    "# display results \n",
    "f_stat, p_value"
   ]
  },
  {
   "cell_type": "markdown",
   "metadata": {},
   "source": [
    "### **Results & Interpreatation:**\n",
    "- **F-statistic:** 4.85. Indicates that the between group-variablility is substantially larger than the within-group variability. \n",
    "- **p-value:** 0.0159. Since the p-value is less than the significance level of 0.05, we reject the null hypothesis. \n",
    "\n",
    "The ANOVA results suggest there is a statiscally significant difference in the mean plant weights among the three treatment groups (`ctrl`, `trt1`, `trt2`). However, ANOVA does not specify which groups are different. \n",
    "___\n",
    "\n",
    "### **Why Use ANOVA Instead of Multiple $t$-tests?**\n",
    "\n",
    "When analysing more than two groups, it is more appropriate to use ANOVA instead of performing several $t$-tests. Here's why: \n",
    "\n",
    "1. **Reduces Errors:** Running multiple $t$-tests increase the risk of false positives (Type I errors). ANOVA avoids this by comparing all groups at once, keeping the error rate low. \n",
    "2. **More Efficient:** ANOVA tests all groups in a single step, saving time and avoiding repeated calculations. \n",
    "3. **Broad Comparison:** ANOVA checks for differences across all groups together, while $t$-tests only compares two groups at a time. \n",
    "4. **Follow-Up Testing:** If ANOVA shows a difference, additional tests like Tukey's HSD can identify which groups are different without increasing errors. \n",
    "\n",
    "ANOVA is better for analysing more than two groups because it is accurate, efficient, and provides a complete comparison. \n",
    "___\n"
   ]
  },
  {
   "cell_type": "markdown",
   "metadata": {},
   "source": [
    "## **References:**\n",
    "\n",
    "### **$t$-Test:**\n",
    "- https://www.investopedia.com/terms/t/t-test.asp#:~:text=two%20sample%20populations.-,What%20Is%20a%20T%2DTest%3F,flipping%20a%20coin%20100%20times. (Definition for T-Test)\n",
    "- https://www.jmp.com/en_us/statistics-knowledge-portal/t-test.html (T-Test Assumptions)\n",
    "\n",
    "### **ANOVA:**\n",
    "- https://docs.scipy.org/doc/scipy/reference/generated/scipy.stats.f_oneway.html (f_oneway function for ANOVA)\n",
    "- https://www.geeksforgeeks.org/how-to-perform-a-one-way-anova-in-python/ (f_oneway for ANOVA)\n",
    "- https://surveysparrow.com/blog/anova/ (Guide for interpreting ANOVA)\n",
    "- https://statistics.laerd.com/statistical-guides/one-way-anova-statistical-guide-2.php (Why use ANOVA instead of multiple $t$-tests?)\n",
    "- https://stats.stackexchange.com/questions/236877/is-it-wrong-to-use-anova-instead-of-a-t-test-for-comparing-two-means (Why use ANOVA instead of multiple $t$-tests?)\n",
    "- https://www.voxco.com/blog/anova-vs-t-test-with-a-comparison-chart/ (Why use ANOVA instead of multiple $t$-tests?)\n",
    "___"
   ]
  },
  {
   "cell_type": "markdown",
   "metadata": {},
   "source": [
    "# **END**"
   ]
  }
 ],
 "metadata": {
  "kernelspec": {
   "display_name": "base",
   "language": "python",
   "name": "python3"
  },
  "language_info": {
   "codemirror_mode": {
    "name": "ipython",
    "version": 3
   },
   "file_extension": ".py",
   "mimetype": "text/x-python",
   "name": "python",
   "nbconvert_exporter": "python",
   "pygments_lexer": "ipython3",
   "version": "3.11.5"
  }
 },
 "nbformat": 4,
 "nbformat_minor": 2
}
