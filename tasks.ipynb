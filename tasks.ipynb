{
 "cells": [
  {
   "cell_type": "markdown",
   "metadata": {},
   "source": [
    "# **Applied Statistics: Tasks**\n",
    "\n",
    "***\n",
    "\n",
    "This notebook contains code and resources for my tasks from the Applied Statistics module. \n",
    "\n",
    "**Author: Brianne McGrath**\n",
    "\n",
    "***"
   ]
  },
  {
   "cell_type": "markdown",
   "metadata": {},
   "source": [
    "## **Task One: Permutations and Combinations - Lady Tasting Tea Experiment**"
   ]
  },
  {
   "cell_type": "markdown",
   "metadata": {},
   "source": [
    "___"
   ]
  },
  {
   "cell_type": "markdown",
   "metadata": {},
   "source": [
    "### **Overview:**\n",
    "\n",
    "In this task, we calculate probabilities in a modified \"Lady Tasting Tea\" experiment. We examine the likelihood of a participant correctly identifying cups with milk poured first by guessing, focusing on outcomes for exactly six and at least five correct cups.\n"
   ]
  },
  {
   "cell_type": "code",
   "execution_count": 42,
   "metadata": {},
   "outputs": [],
   "source": [
    "# import necessary library\n",
    "import itertools"
   ]
  },
  {
   "cell_type": "markdown",
   "metadata": {},
   "source": [
    "### **Step One: Define the Cups**\n",
    "\n",
    "Creating a sequence where the first six cups are milk first, and the last six are tea first. \n"
   ]
  },
  {
   "cell_type": "code",
   "execution_count": 43,
   "metadata": {},
   "outputs": [],
   "source": [
    "# define the cups - first six are milk first, last six are tea first\n",
    "cups = ['milk'] * 6 + ['tea'] * 6"
   ]
  },
  {
   "cell_type": "markdown",
   "metadata": {},
   "source": [
    "### **Step Two: Generate Combinations**\n",
    "\n",
    "Generating all possible combinations of selecting six cups from the twelve available cups. Combinations are stored in `all_combinations`.\n"
   ]
  },
  {
   "cell_type": "code",
   "execution_count": 44,
   "metadata": {},
   "outputs": [],
   "source": [
    "# generate all combinations of six cups from twelve\n",
    "all_combinations = list(itertools.combinations(cups, 6))"
   ]
  },
  {
   "cell_type": "markdown",
   "metadata": {},
   "source": [
    "### **Step Three: Counting Outcomes**\n",
    "Counting the number of outcomes where the lady identifies exactly six correct cups and at least five correct cups. These values are stored as `count_6` and `count_at_least_5`, respectively. \n"
   ]
  },
  {
   "cell_type": "code",
   "execution_count": 72,
   "metadata": {},
   "outputs": [],
   "source": [
    "# count outcomes for exactly six and at least five correct cups\n",
    "count_6 = sum(comb.count('milk') == 6 for comb in all_combinations)\n",
    "count_at_least_5 = sum(comb.count('milk') >= 5 for comb in all_combinations)"
   ]
  },
  {
   "cell_type": "markdown",
   "metadata": {},
   "source": [
    "### **Step Four: Calculate Probabilties & Display Results**\n",
    "\n",
    "Determine probabilies for exactly six correct and at least five correct cups - print results."
   ]
  },
  {
   "cell_type": "code",
   "execution_count": 73,
   "metadata": {},
   "outputs": [
    {
     "name": "stdout",
     "output_type": "stream",
     "text": [
      "Total Combinations: 924\n",
      "Probability of Exactly Six Correct Cups: 0.001082\n",
      "Probability of At Least Five Correct Cups: 0.040043\n"
     ]
    }
   ],
   "source": [
    "# calculate probabilities\n",
    "total_outcomes = len(all_combinations)\n",
    "prob_6_correct = count_6 / total_outcomes\n",
    "prob_at_least_5 = count_at_least_5 / total_outcomes\n",
    "\n",
    "# print results\n",
    "print(f\"Total Combinations: {total_outcomes}\")\n",
    "print(f\"Probability of Exactly Six Correct Cups: {prob_6_correct:.6f}\")\n",
    "print(f\"Probability of At Least Five Correct Cups: {prob_at_least_5:.6f}\")"
   ]
  },
  {
   "cell_type": "markdown",
   "metadata": {},
   "source": [
    "### **Would We Accept Two Errors?** "
   ]
  },
  {
   "cell_type": "code",
   "execution_count": 74,
   "metadata": {},
   "outputs": [
    {
     "name": "stdout",
     "output_type": "stream",
     "text": [
      "Probability of At Least Four Correct Cups: 0.283550\n"
     ]
    }
   ],
   "source": [
    "# count outcomes for exactly at four correct cups - accepting two errors. \n",
    "count_at_least_4 = sum(comb.count('milk') >= 4 for comb in all_combinations)\n",
    "prob_at_least_4 = count_at_least_4 / total_outcomes\n",
    "print(f\"Probability of At Least Four Correct Cups: {prob_at_least_4:.6f}\")"
   ]
  },
  {
   "cell_type": "markdown",
   "metadata": {},
   "source": [
    "I believe we should not accept two errors in this experiement due to the significant increase in the probability of achieving at least 4 cups correctly **(0.283550)**. This higher probability compared to **5** **(0.040043)** or **6** **(0.001082)** correctly implies that participants could pass by guessing rather than demonstrating true distinction between the two options. \n",
    "\n",
    "While allowing two errors may acknowledge indivual variability, it ultimately undermines the test's integrity. The greater likelihood of passing without genuine skill compromises the experiement's goal of accurately assessing participants' abilities. A stricter threshold is necessary, in my opinion, to ensure that only those who can truly differentiate between the cups are recognised, perserving the integrity of the experiement. "
   ]
  },
  {
   "cell_type": "markdown",
   "metadata": {},
   "source": [
    "___"
   ]
  },
  {
   "cell_type": "markdown",
   "metadata": {},
   "source": [
    "## **Task Two: numpy's Normal Distribution**"
   ]
  },
  {
   "cell_type": "markdown",
   "metadata": {},
   "source": [
    "___"
   ]
  },
  {
   "cell_type": "markdown",
   "metadata": {},
   "source": [
    "### **Overview:**\n",
    "This task evaluates whether a sample generated by `numpy.random.normal()` resembles a true normal distribution using the Shapiro-Wilk test and a histogram with a PDF overlay.\n"
   ]
  },
  {
   "cell_type": "code",
   "execution_count": 75,
   "metadata": {},
   "outputs": [],
   "source": [
    "# import necessary libraries\n",
    "\n",
    "import numpy as np\n",
    "import matplotlib.pyplot as plt\n",
    "from scipy import stats"
   ]
  },
  {
   "cell_type": "markdown",
   "metadata": {},
   "source": [
    "### **Step One: Generate a Sample**\n",
    "\n",
    "Generating 100,00 values from a normal distribution with a mean of 10.0 and a standard deviation of 3.0, "
   ]
  },
  {
   "cell_type": "code",
   "execution_count": 48,
   "metadata": {},
   "outputs": [],
   "source": [
    "# setting mean and standard deviation\n",
    "mean = 10.0\n",
    "std_dev = 3.6\n",
    "sample_size = 100000 # number of values to generate\n",
    "\n",
    "# generate sample \n",
    "sample = np.random.normal(loc=mean, scale=std_dev, size=sample_size)"
   ]
  },
  {
   "cell_type": "markdown",
   "metadata": {},
   "source": [
    "### **Step Two: Shapiro-Wilk Test for Normality**\n",
    "\n",
    "The Shapiro-Wilk test checks if a sample comes from a normal distribution. We will apply it to our generated sample.\n"
   ]
  },
  {
   "cell_type": "code",
   "execution_count": 49,
   "metadata": {},
   "outputs": [
    {
     "name": "stdout",
     "output_type": "stream",
     "text": [
      "Shapiro-Wilk Test Statistic: 0.9993871450424194, p-value: 0.09165263921022415\n"
     ]
    }
   ],
   "source": [
    "shapiro_test = stats.shapiro(sample[:5000])  # limit to 5000 values due to test limitations\n",
    "\n",
    "# print results\n",
    "print(f\"Shapiro-Wilk Test Statistic: {shapiro_test.statistic}, p-value: {shapiro_test.pvalue}\")"
   ]
  },
  {
   "cell_type": "markdown",
   "metadata": {},
   "source": [
    "** Interpretation of Results"
   ]
  },
  {
   "cell_type": "markdown",
   "metadata": {},
   "source": [
    "### **Step 4: Plot Histogram**\n",
    "\n",
    "Creating a histogram of our sample and plotting the normal distribution probabability density."
   ]
  },
  {
   "cell_type": "code",
   "execution_count": 77,
   "metadata": {},
   "outputs": [
    {
     "data": {
      "image/png": "[encoded data removed]",
      "text/plain": [
       "<Figure size 1200x500 with 1 Axes>"
      ]
     },
     "metadata": {},
     "output_type": "display_data"
    }
   ],
   "source": [
    "# count occurrences in each bin\n",
    "counts, bin_edges = np.histogram(sample, bins=50, density=True)\n",
    "\n",
    "# setting up plot\n",
    "fig, ax = plt.subplots(figsize=(12, 5))\n",
    "\n",
    "# create a bar chart from the histogram data\n",
    "ax.bar(bin_edges[:-1], counts, width=bin_edges[1] - bin_edges[0], color='steelblue', edgecolor='black', alpha=0.6)\n",
    "\n",
    "# generate x values for the normal PDF overlay\n",
    "x = np.linspace(mean - 4*std_dev, mean + 4*std_dev, 1000)\n",
    "pdf = stats.norm.pdf(x, loc=mean, scale=std_dev)\n",
    "\n",
    "# overlay the normal PDF\n",
    "ax.plot(x, pdf, 'k-', linewidth=2, label='Normal PDF')\n",
    "ax.set_title(f'Histogram of Normal Distribution Sample with PDF')\n",
    "ax.set_xlabel('Value')\n",
    "ax.set_ylabel('Density')\n",
    "ax.legend()\n",
    "\n",
    "plt.show()\n"
   ]
  },
  {
   "cell_type": "markdown",
   "metadata": {},
   "source": [
    "## **References:**\n",
    "\n",
    "- https://docs.python.org/3/library/itertools.html (Task One - Itertools for Combinations)\n",
    "- https://builtin.com/data-science/shapiro-wilk-test#:~:text=Shapiro%2DWilk%20Test%3F-,The%20Shapiro%2DWilk%20test%20is%20a%20hypothesis%20test%20that%20is,generated%20from%20a%20normal%20distribution. (Task Two - Shapiro-Wilk Test for Normality)\n",
    "- https://stackoverflow.com/questions/28217306/error-in-shapiro-test-sample-size-must-be-between (Task Two - Shapiro-Wilk Test Limitations)\n",
    "- https://stackoverflow.com/questions/52423635/how-to-plot-normalized-histogram-with-pdf-properly-using-matplotlib (Task Two - Histogram & Normal PDF)"
   ]
  },
  {
   "cell_type": "markdown",
   "metadata": {},
   "source": []
  }
 ],
 "metadata": {
  "kernelspec": {
   "display_name": "Python 3",
   "language": "python",
   "name": "python3"
  },
  "language_info": {
   "codemirror_mode": {
    "name": "ipython",
    "version": 3
   },
   "file_extension": ".py",
   "mimetype": "text/x-python",
   "name": "python",
   "nbconvert_exporter": "python",
   "pygments_lexer": "ipython3",
   "version": "3.11.5"
  }
 },
 "nbformat": 4,
 "nbformat_minor": 2
}
