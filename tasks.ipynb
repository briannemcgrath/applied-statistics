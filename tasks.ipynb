{
 "cells": [
  {
   "cell_type": "markdown",
   "metadata": {},
   "source": [
    "# **Applied Statistics: Tasks**\n",
    "\n",
    "***\n",
    "\n",
    "This notebook contains my tasks from the Applied Statistics module. \n",
    "\n",
    "**Author: Brianne McGrath**\n",
    "\n",
    "***"
   ]
  },
  {
   "cell_type": "markdown",
   "metadata": {},
   "source": [
    "## **Task One: Permutations and Combinations - Lady Tasting Tea Experiment**"
   ]
  },
  {
   "cell_type": "markdown",
   "metadata": {},
   "source": [
    "___"
   ]
  },
  {
   "cell_type": "markdown",
   "metadata": {},
   "source": [
    "This code calculates the probabilities associated with a modified version of the Lady Tasting Tea experiment. In this experiment, there are twelve cups of tea: six cups have milk poured in first, and six cups have tea poured in first. \n",
    "\n",
    "We use itertools to generate all possible combinations of six cups from the twelve. It counts the favourable outcomes to determine probability of a lady correctly identifying the cups with milk poured in first under two situations: \n",
    "\n",
    "- Exactly Six Correct Cups\n",
    "- At Least Five Correct Cups\n",
    "\n",
    "Results include the total number of combinations and the calculated probabilities for both situations. "
   ]
  },
  {
   "cell_type": "code",
   "execution_count": 19,
   "metadata": {},
   "outputs": [
    {
     "name": "stdout",
     "output_type": "stream",
     "text": [
      "Total Combinations: 924\n",
      "Probability of Exactly Six Correct Cups: 0.001082\n",
      "Probability of At Least Five Correct Cups: 0.040043\n"
     ]
    }
   ],
   "source": [
    "# import necessary library\n",
    "import itertools\n",
    "\n",
    "# define the cups - first six are milk first, last six are tea first\n",
    "cups = ['milk'] * 6 + ['tea'] * 6\n",
    "\n",
    "# generate all combinations of six cups from twelve\n",
    "all_combinations = list(itertools.combinations(cups, 6))\n",
    "\n",
    "# count favourable outcomes for exactly six and at least five correct cups\n",
    "favourable_6 = sum(comb.count('milk') == 6 for comb in all_combinations)\n",
    "favourable_at_least_5 = sum(comb.count('milk') >= 5 for comb in all_combinations)\n",
    "\n",
    "# calculate probabilities\n",
    "total_outcomes = len(all_combinations)\n",
    "prob_6_correct = favourable_6 / total_outcomes\n",
    "prob_at_least_5 = favourable_at_least_5 / total_outcomes\n",
    "\n",
    "# print results\n",
    "print(f\"Total Combinations: {total_outcomes}\")\n",
    "print(f\"Probability of Exactly Six Correct Cups: {prob_6_correct:.6f}\")\n",
    "print(f\"Probability of At Least Five Correct Cups: {prob_at_least_5:.6f}\")\n",
    "\n"
   ]
  },
  {
   "cell_type": "markdown",
   "metadata": {},
   "source": [
    "___"
   ]
  },
  {
   "cell_type": "markdown",
   "metadata": {},
   "source": [
    "## Lady Tasting Tea Experiment Probability Calculation\n",
    "\n",
    "This Python code calculates the probabilities of selecting the correct cups in an altered version of the *Lady Tasting Tea* experiment, where there are 12 cups—6 with milk first and 6 with tea first. \n",
    "\n",
    "### Code Overview\n",
    "\n",
    "1. **Import Required Library**:\n",
    "   - The `itertools` library is imported for generating combinations.\n",
    "\n",
    "2. **Define Cups**:\n",
    "   - A list of cups is created, with the first six cups containing milk and the last six containing tea.\n",
    "\n",
    "3. **Generate Combinations**:\n",
    "   - All possible combinations of 6 cups from the 12 are generated.\n",
    "\n",
    "4. **Count Favorable Outcomes**:\n",
    "   - The number of combinations with exactly 6 cups containing milk is counted.\n",
    "   - The number of combinations with at least 5 cups containing milk is also counted.\n",
    "\n",
    "5. **Calculate Probabilities**:\n",
    "   - The total number of combinations is determined.\n",
    "   - Probabilities for selecting exactly 6 correct cups and at least 5 correct cups are calculated.\n",
    "\n",
    "6. **Print Results**:\n",
    "   - The total combinations and the calculated probabilities are printed.\n",
    "\n",
    "### Code\n",
    "\n",
    "```python\n",
    "import itertools \n",
    "\n",
    "# Define the cups - first six are milk first, last six are tea first\n",
    "cups = ['milk'] * 6 + ['tea'] * 6\n",
    "\n",
    "# Generate all combinations of six cups from twelve\n",
    "all_combinations = list(itertools.combinations(cups, 6))\n",
    "\n",
    "# Count favourable outcomes for exactly six and at least five correct cups\n",
    "favourable_6 = sum(comb.count('milk') == 6 for comb in all_combinations)\n",
    "favourable_at_least_5 = sum(comb.count('milk') >= 5 for comb in all_combinations)\n",
    "\n",
    "# Calculate probabilities\n",
    "total_outcomes = len(all_combinations)\n",
    "prob_6_correct = favourable_6 / total_outcomes\n",
    "prob_at_least_5 = favourable_at_least_5 / total_outcomes\n",
    "\n",
    "# Print results\n",
    "print(f\"Total combinations: {total_outcomes}\")\n",
    "print(f\"Probability of exactly six correct cups: {prob_6_correct:.6f}\")\n",
    "print(f\"Probability of at least five correct cups: {prob_at_least_5:.6f}\")\n"
   ]
  },
  {
   "cell_type": "markdown",
   "metadata": {},
   "source": [
    "## **References:**\n",
    "\n",
    "- https://docs.python.org/3/library/itertools.html (Task One - Itertools for Combinations)"
   ]
  },
  {
   "cell_type": "markdown",
   "metadata": {},
   "source": []
  }
 ],
 "metadata": {
  "kernelspec": {
   "display_name": "Python 3",
   "language": "python",
   "name": "python3"
  },
  "language_info": {
   "codemirror_mode": {
    "name": "ipython",
    "version": 3
   },
   "file_extension": ".py",
   "mimetype": "text/x-python",
   "name": "python",
   "nbconvert_exporter": "python",
   "pygments_lexer": "ipython3",
   "version": "3.11.5"
  }
 },
 "nbformat": 4,
 "nbformat_minor": 2
}
