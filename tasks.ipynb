{
 "cells": [
  {
   "cell_type": "markdown",
   "metadata": {},
   "source": [
    "# **Applied Statistics: Tasks**\n",
    "\n",
    "***\n",
    "\n",
    "This notebook contains code and resources for my tasks from the Applied Statistics module. \n",
    "\n",
    "**Author: Brianne McGrath**\n",
    "\n",
    "***"
   ]
  },
  {
   "cell_type": "markdown",
   "metadata": {},
   "source": [
    "## **Task One: Permutations and Combinations - Lady Tasting Tea Experiment**"
   ]
  },
  {
   "cell_type": "markdown",
   "metadata": {},
   "source": [
    "___"
   ]
  },
  {
   "cell_type": "markdown",
   "metadata": {},
   "source": [
    "### **Overview:**\n",
    "\n",
    "In this task, we calculate probabilities in a modified \"Lady Tasting Tea\" experiment. We examine the likelihood of a participant correctly identifying cups with milk poured first by guessing, focusing on outcomes for exactly six and at least five correct cups.\n"
   ]
  },
  {
   "cell_type": "code",
   "execution_count": 2,
   "metadata": {},
   "outputs": [],
   "source": [
    "# import necessary library\n",
    "import itertools"
   ]
  },
  {
   "cell_type": "markdown",
   "metadata": {},
   "source": [
    "### **Step One: Define the Cups**\n",
    "\n",
    "Creating a sequence where the first six cups are milk first, and the last six are tea first. \n"
   ]
  },
  {
   "cell_type": "code",
   "execution_count": 3,
   "metadata": {},
   "outputs": [],
   "source": [
    "# define the cups - first six are milk first, last six are tea first\n",
    "cups = ['milk'] * 6 + ['tea'] * 6"
   ]
  },
  {
   "cell_type": "markdown",
   "metadata": {},
   "source": [
    "### **Step Two: Generate Combinations**\n",
    "\n",
    "Generating all possible combinations of selecting six cups from the twelve available cups. Combinations are stored in `all_combinations`.\n"
   ]
  },
  {
   "cell_type": "code",
   "execution_count": 4,
   "metadata": {},
   "outputs": [],
   "source": [
    "# generate all combinations of six cups from twelve\n",
    "all_combinations = list(itertools.combinations(cups, 6))"
   ]
  },
  {
   "cell_type": "markdown",
   "metadata": {},
   "source": [
    "### **Step Three: Counting Outcomes**\n",
    "Counting the number of outcomes where the lady identifies exactly six correct cups and at least five correct cups. These values are stored as `count_6` and `count_at_least_5`, respectively. \n"
   ]
  },
  {
   "cell_type": "code",
   "execution_count": 5,
   "metadata": {},
   "outputs": [],
   "source": [
    "# count outcomes for exactly six and at least five correct cups\n",
    "count_6 = sum(comb.count('milk') == 6 for comb in all_combinations)\n",
    "count_at_least_5 = sum(comb.count('milk') >= 5 for comb in all_combinations)"
   ]
  },
  {
   "cell_type": "markdown",
   "metadata": {},
   "source": [
    "### **Step Four: Calculate Probabilties & Display Results**\n",
    "\n",
    "Determine probabilies for exactly six correct and at least five correct cups - print results."
   ]
  },
  {
   "cell_type": "code",
   "execution_count": 6,
   "metadata": {},
   "outputs": [
    {
     "name": "stdout",
     "output_type": "stream",
     "text": [
      "Total Combinations: 924\n",
      "Probability of Exactly Six Correct Cups: 0.001082\n",
      "Probability of At Least Five Correct Cups: 0.040043\n"
     ]
    }
   ],
   "source": [
    "# calculate probabilities\n",
    "total_outcomes = len(all_combinations)\n",
    "prob_6_correct = count_6 / total_outcomes\n",
    "prob_at_least_5 = count_at_least_5 / total_outcomes\n",
    "\n",
    "# print results\n",
    "print(f\"Total Combinations: {total_outcomes}\")\n",
    "print(f\"Probability of Exactly Six Correct Cups: {prob_6_correct:.6f}\")\n",
    "print(f\"Probability of At Least Five Correct Cups: {prob_at_least_5:.6f}\")"
   ]
  },
  {
   "cell_type": "markdown",
   "metadata": {},
   "source": [
    "### **Would We Accept Two Errors?** "
   ]
  },
  {
   "cell_type": "code",
   "execution_count": 7,
   "metadata": {},
   "outputs": [
    {
     "name": "stdout",
     "output_type": "stream",
     "text": [
      "Probability of At Least Four Correct Cups: 0.283550\n"
     ]
    }
   ],
   "source": [
    "# count outcomes for exactly at four correct cups - accepting two errors. \n",
    "count_at_least_4 = sum(comb.count('milk') >= 4 for comb in all_combinations)\n",
    "prob_at_least_4 = count_at_least_4 / total_outcomes\n",
    "print(f\"Probability of At Least Four Correct Cups: {prob_at_least_4:.6f}\")"
   ]
  },
  {
   "cell_type": "markdown",
   "metadata": {},
   "source": [
    "I believe we should not accept two errors in this experiement due to the significant increase in the probability of achieving at least 4 cups correctly **(0.283550)**. This higher probability compared to **5** **(0.040043)** or **6** **(0.001082)** correctly implies that participants could pass by guessing rather than demonstrating true distinction between the two options. \n",
    "\n",
    "While allowing two errors may acknowledge indivual variability, it ultimately undermines the test's integrity. The greater likelihood of passing without genuine skill compromises the experiement's goal of accurately assessing participants' abilities. A stricter threshold is necessary, in my opinion, to ensure that only those who can truly differentiate between the cups are recognised, perserving the integrity of the experiement. "
   ]
  },
  {
   "cell_type": "markdown",
   "metadata": {},
   "source": [
    "___"
   ]
  },
  {
   "cell_type": "markdown",
   "metadata": {},
   "source": [
    "## **Task Two: numpy's Normal Distribution**"
   ]
  },
  {
   "cell_type": "markdown",
   "metadata": {},
   "source": [
    "___"
   ]
  },
  {
   "cell_type": "markdown",
   "metadata": {},
   "source": [
    "### **Overview:**\n",
    "This task evaluates whether a sample generated by `numpy.random.normal()` resembles a true normal distribution using the Shapiro-Wilk test and a histogram with a PDF overlay.\n"
   ]
  },
  {
   "cell_type": "code",
   "execution_count": 8,
   "metadata": {},
   "outputs": [],
   "source": [
    "# import necessary libraries\n",
    "\n",
    "import numpy as np\n",
    "import matplotlib.pyplot as plt\n",
    "from scipy import stats"
   ]
  },
  {
   "cell_type": "markdown",
   "metadata": {},
   "source": [
    "### **Step One: Generate a Sample**\n",
    "\n",
    "Generating 100,00 values from a normal distribution with a mean of 10.0 and a standard deviation of 3.0, "
   ]
  },
  {
   "cell_type": "code",
   "execution_count": 9,
   "metadata": {},
   "outputs": [],
   "source": [
    "# setting mean and standard deviation\n",
    "mean = 10.0\n",
    "std_dev = 3.6\n",
    "sample_size = 100000 # number of values to generate\n",
    "\n",
    "# generate sample \n",
    "sample = np.random.normal(loc=mean, scale=std_dev, size=sample_size)"
   ]
  },
  {
   "cell_type": "markdown",
   "metadata": {},
   "source": [
    "### **Step Two: Shapiro-Wilk Test for Normality**\n",
    "\n",
    "The Shapiro-Wilk test checks if a sample comes from a normal distribution. We will apply it to our generated sample.\n"
   ]
  },
  {
   "cell_type": "code",
   "execution_count": 10,
   "metadata": {},
   "outputs": [
    {
     "name": "stdout",
     "output_type": "stream",
     "text": [
      "Shapiro-Wilk Test Statistic: 0.9995056390762329, p-value: 0.2215539813041687\n"
     ]
    }
   ],
   "source": [
    "shapiro_test = stats.shapiro(sample[:5000])  # limit to 5000 values due to test limitations\n",
    "\n",
    "# print results\n",
    "print(f\"Shapiro-Wilk Test Statistic: {shapiro_test.statistic}, p-value: {shapiro_test.pvalue}\")"
   ]
  },
  {
   "cell_type": "markdown",
   "metadata": {},
   "source": [
    "**Interpretation of Results:**\n",
    "- **Shapiro-Wilk Test Statistic:** 0.999387: Close to 1, implying that the data closely resembles a normal distribution. \n",
    "- **p-Value:** 0.091652: Higher than 0.05, which means we don't have enough evidence to reject the null hypothesis. We can assume the data is roughly normal. "
   ]
  },
  {
   "cell_type": "markdown",
   "metadata": {},
   "source": [
    "### **Step Three: Plot Histogram**\n",
    "\n",
    "Creating a histogram of our sample and plotting the normal distribution probabability density."
   ]
  },
  {
   "cell_type": "code",
   "execution_count": 11,
   "metadata": {},
   "outputs": [
    {
     "data": {
      "image/png": "[encoded data removed]",
      "text/plain": [
       "<Figure size 1200x500 with 1 Axes>"
      ]
     },
     "metadata": {},
     "output_type": "display_data"
    }
   ],
   "source": [
    "# count occurrences in each bin\n",
    "counts, bin_edges = np.histogram(sample, bins=50, density=True)\n",
    "\n",
    "# setting up plot\n",
    "fig, ax = plt.subplots(figsize=(12, 5))\n",
    "\n",
    "# create a bar chart from the histogram data\n",
    "ax.bar(bin_edges[:-1], counts, width=bin_edges[1] - bin_edges[0], color='steelblue', edgecolor='black', alpha=0.6)\n",
    "\n",
    "# generate x values for the normal PDF overlay\n",
    "x = np.linspace(mean - 4*std_dev, mean + 4*std_dev, 1000)\n",
    "pdf = stats.norm.pdf(x, loc=mean, scale=std_dev)\n",
    "\n",
    "# overlay the normal PDF\n",
    "ax.plot(x, pdf, 'k-', linewidth=2, label='Normal PDF')\n",
    "ax.set_title(f'Histogram of Normal Distribution Sample with PDF')\n",
    "ax.set_xlabel('Value')\n",
    "ax.set_ylabel('Density')\n",
    "ax.legend()\n",
    "\n",
    "plt.show()\n"
   ]
  },
  {
   "cell_type": "markdown",
   "metadata": {},
   "source": [
    "___"
   ]
  },
  {
   "cell_type": "markdown",
   "metadata": {},
   "source": [
    "## **Task Three: $t$-Test Calculation**"
   ]
  },
  {
   "cell_type": "markdown",
   "metadata": {},
   "source": [
    "___"
   ]
  },
  {
   "cell_type": "markdown",
   "metadata": {},
   "source": [
    "### **Overview:**\n",
    "\n",
    "In this task, we calculate the $t$-statistic for a dataset of resting heart rates measured before and after a two-week exercise program. We compare the manually calculated t-statistic to the result from `scipy.stats`.  "
   ]
  },
  {
   "cell_type": "code",
   "execution_count": null,
   "metadata": {},
   "outputs": [],
   "source": [
    "# import necessary libraries\n",
    "import numpy as np\n",
    "import scipy.stats as stats"
   ]
  },
  {
   "cell_type": "markdown",
   "metadata": {},
   "source": [
    "### **Step One: Define the Data**"
   ]
  },
  {
   "cell_type": "code",
   "execution_count": null,
   "metadata": {},
   "outputs": [
    {
     "data": {
      "text/plain": [
       "(array([63, 68, 70, 64, 74, 67, 70, 57, 66, 65]),\n",
       " array([64, 64, 68, 64, 73, 70, 72, 54, 61, 63]))"
      ]
     },
     "execution_count": 22,
     "metadata": {},
     "output_type": "execute_result"
    }
   ],
   "source": [
    "# define the data\n",
    "hr_before = np.array([63, 68, 70, 64, 74, 67, 70, 57, 66, 65])\n",
    "hr_after = np.array([64, 64, 68, 64, 73, 70, 72, 54, 61, 63])\n",
    "\n"
   ]
  },
  {
   "cell_type": "markdown",
   "metadata": {},
   "source": [
    "### **Step Two: $t$-test Manual Calculation: (Paired)**"
   ]
  },
  {
   "attachments": {
    "image-2.png": {
     "image/png": "[encoded data removed]"
    }
   },
   "cell_type": "markdown",
   "metadata": {},
   "source": [
    "![image-2.png](attachment:image-2.png)"
   ]
  },
  {
   "cell_type": "code",
   "execution_count": 64,
   "metadata": {},
   "outputs": [
    {
     "name": "stdout",
     "output_type": "stream",
     "text": [
      "t-statistic: 1.3372274824806283\n",
      "p-value: 0.21396011317404628\n"
     ]
    }
   ],
   "source": [
    "# calculate the differences\n",
    "differences = hr_before - hr_after\n",
    "\n",
    "# calculate the mean of the differences\n",
    "mean_differences = np.mean(differences)\n",
    "\n",
    "# calculate standard deviation of the differences\n",
    "std_dev_differences = np.std(differences, ddof=1) \n",
    "\n",
    "# calculate the t-statistic\n",
    "n = len(differences)\n",
    "t_stat = mean_differences / (std_dev_differences / np.sqrt(n))\n",
    "\n",
    "# degree of freedom for paired t-test\n",
    "df = n - 1  \n",
    "\n",
    "# calculate p-value\n",
    "p_value = 2 * (1 - stats.t.cdf(np.abs(t_stat), df))  \n",
    "\n",
    "# Output results\n",
    "print(f\"t-statistic: {t_stat}\")\n",
    "print(f\"p-value: {p_value}\")"
   ]
  },
  {
   "cell_type": "markdown",
   "metadata": {},
   "source": [
    "### **Step Three: Compare with `scipy.stats`:**"
   ]
  },
  {
   "cell_type": "code",
   "execution_count": 65,
   "metadata": {},
   "outputs": [
    {
     "data": {
      "text/plain": [
       "TtestResult(statistic=1.337227482480628, pvalue=0.21396011317404623, df=9)"
      ]
     },
     "execution_count": 65,
     "metadata": {},
     "output_type": "execute_result"
    }
   ],
   "source": [
    "# t-test with scipy.stats\n",
    "\n",
    "stats.ttest_rel(hr_before, hr_after)"
   ]
  },
  {
   "cell_type": "markdown",
   "metadata": {},
   "source": [
    "**Interpretation of Results:**\n",
    "\n",
    "- **t-statistic and p-value:** Results from manual calculation and `scipy.stats` align. \n",
    "- **Paired $t$-test:** Dataset consisted of paired values, which is why the paired $t$-test was used. \n",
    "- **p-value:** 0.21396, which is greater than 0.05, meaning there's not enough evidence to reject the null hypothesis. We conclude that there's no significant difference between the before and after heart rates. "
   ]
  },
  {
   "cell_type": "markdown",
   "metadata": {},
   "source": [
    "___"
   ]
  },
  {
   "cell_type": "markdown",
   "metadata": {},
   "source": [
    "## **References:**\n",
    "\n",
    "- https://docs.python.org/3/library/itertools.html (Task One - Itertools for Combinations)\n",
    "- https://builtin.com/data-science/shapiro-wilk-test#:~:text=Shapiro%2DWilk%20Test%3F-,The%20Shapiro%2DWilk%20test%20is%20a%20hypothesis%20test%20that%20is,generated%20from%20a%20normal%20distribution. (Task Two - Shapiro-Wilk Test for Normality)\n",
    "- https://stackoverflow.com/questions/28217306/error-in-shapiro-test-sample-size-must-be-between (Task Two - Shapiro-Wilk Test Limitations)\n",
    "- https://stackoverflow.com/questions/52423635/how-to-plot-normalized-histogram-with-pdf-properly-using-matplotlib (Task Two - Histogram & Normal PDF)\n",
    "- https://pmc.ncbi.nlm.nih.gov/articles/PMC4111019/#:~:text=The%20P%20value%20is%20defined,groups%20is%20due%20to%20chance. (Task Two - p-Values)\n",
    "- https://en.wikipedia.org/wiki/Student%27s_t-test (Task Three - Manual Calculation t-Test)\n",
    "- https://www.cuemath.com/t-test-formula/ (Task Three - Manual Calculation t-Test)\n",
    "- https://www.investopedia.com/terms/d/degrees-of-freedom.asp (Task Three - DOF)\n",
    "- https://docs.scipy.org/doc/scipy/reference/generated/scipy.stats.ttest_ind.html#ttest-ind (Task Three - scipy.stats)"
   ]
  },
  {
   "cell_type": "markdown",
   "metadata": {},
   "source": []
  }
 ],
 "metadata": {
  "kernelspec": {
   "display_name": "Python 3",
   "language": "python",
   "name": "python3"
  },
  "language_info": {
   "codemirror_mode": {
    "name": "ipython",
    "version": 3
   },
   "file_extension": ".py",
   "mimetype": "text/x-python",
   "name": "python",
   "nbconvert_exporter": "python",
   "pygments_lexer": "ipython3",
   "version": "3.11.5"
  }
 },
 "nbformat": 4,
 "nbformat_minor": 2
}
