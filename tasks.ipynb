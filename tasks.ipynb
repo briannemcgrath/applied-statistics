{
 "cells": [
  {
   "cell_type": "markdown",
   "metadata": {},
   "source": [
    "# **Applied Statistics: Tasks**\n",
    "\n",
    "***\n",
    "\n",
    "This notebook contains my tasks from the Applied Statistics module. \n",
    "\n",
    "**Author: Brianne McGrath**\n",
    "\n",
    "***"
   ]
  },
  {
   "cell_type": "markdown",
   "metadata": {},
   "source": [
    "## **Task One: Permutations and Combinations**"
   ]
  },
  {
   "cell_type": "markdown",
   "metadata": {},
   "source": []
  }
 ],
 "metadata": {
  "language_info": {
   "name": "python"
  }
 },
 "nbformat": 4,
 "nbformat_minor": 2
}
