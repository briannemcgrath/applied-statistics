{
 "cells": [
  {
   "cell_type": "markdown",
   "metadata": {},
   "source": [
    "# **Applied Statistics: Tasks**\n",
    "\n",
    "***\n",
    "\n",
    "This notebook contains my tasks from the Applied Statistics module. \n",
    "\n",
    "**Author: Brianne McGrath**\n",
    "\n",
    "***"
   ]
  },
  {
   "cell_type": "markdown",
   "metadata": {},
   "source": [
    "## **Task One: Permutations and Combinations - Lady Tasting Tea Experiment**"
   ]
  },
  {
   "cell_type": "code",
   "execution_count": 16,
   "metadata": {},
   "outputs": [
    {
     "name": "stdout",
     "output_type": "stream",
     "text": [
      "Total combinations: 924\n",
      "Probability of exactly six correct cups: 0.001082\n",
      "Probability of at least five correct cups: 0.040043\n"
     ]
    }
   ],
   "source": [
    "import itertools\n",
    "\n",
    "# define the cups - first six are milk first, last six are tea first\n",
    "cups = ['milk'] * 6 + ['tea'] * 6\n",
    "\n",
    "# generate all combinations of six cups from twelve\n",
    "all_combinations = list(itertools.combinations(cups, 6))\n",
    "\n",
    "# count favourable outcomes for exactly six and at least five correct cups\n",
    "favourable_6 = sum(comb.count('milk') == 6 for comb in all_combinations)\n",
    "favourable_at_least_5 = sum(comb.count('milk') >= 5 for comb in all_combinations)\n",
    "\n",
    "# calculate probabilities\n",
    "total_outcomes = len(all_combinations)\n",
    "prob_6_correct = favourable_6 / total_outcomes\n",
    "prob_at_least_5 = favourable_at_least_5 / total_outcomes\n",
    "\n",
    "# print results\n",
    "print(f\"Total combinations: {total_outcomes}\")\n",
    "print(f\"Probability of exactly six correct cups: {prob_6_correct:.6f}\")\n",
    "print(f\"Probability of at least five correct cups: {prob_at_least_5:.6f}\")\n",
    "\n"
   ]
  },
  {
   "cell_type": "markdown",
   "metadata": {},
   "source": [
    "___"
   ]
  },
  {
   "cell_type": "markdown",
   "metadata": {},
   "source": [
    "## **References:**\n",
    "\n",
    "- https://docs.python.org/3/library/itertools.html (Task One - Itertools for Combinations)"
   ]
  },
  {
   "cell_type": "markdown",
   "metadata": {},
   "source": []
  }
 ],
 "metadata": {
  "kernelspec": {
   "display_name": "Python 3",
   "language": "python",
   "name": "python3"
  },
  "language_info": {
   "codemirror_mode": {
    "name": "ipython",
    "version": 3
   },
   "file_extension": ".py",
   "mimetype": "text/x-python",
   "name": "python",
   "nbconvert_exporter": "python",
   "pygments_lexer": "ipython3",
   "version": "3.11.5"
  }
 },
 "nbformat": 4,
 "nbformat_minor": 2
}
